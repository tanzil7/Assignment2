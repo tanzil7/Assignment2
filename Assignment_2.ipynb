{
  "nbformat": 4,
  "nbformat_minor": 0,
  "metadata": {
    "kernelspec": {
      "display_name": "Python 3",
      "language": "python",
      "name": "python3"
    },
    "language_info": {
      "codemirror_mode": {
        "name": "ipython",
        "version": 3
      },
      "file_extension": ".py",
      "mimetype": "text/x-python",
      "name": "python",
      "nbconvert_exporter": "python",
      "pygments_lexer": "ipython3",
      "version": "3.8.3"
    },
    "colab": {
      "name": "Assignment_2.ipynb",
      "provenance": [],
      "include_colab_link": true
    }
  },
  "cells": [
    {
      "cell_type": "markdown",
      "metadata": {
        "id": "view-in-github",
        "colab_type": "text"
      },
      "source": [
        "<a href=\"https://colab.research.google.com/github/tanzil7/Assignment2/blob/main/Assignment_2.ipynb\" target=\"_parent\"><img src=\"https://colab.research.google.com/assets/colab-badge.svg\" alt=\"Open In Colab\"/></a>"
      ]
    },
    {
      "cell_type": "code",
      "metadata": {
        "id": "280-4koZVuzn"
      },
      "source": [
        "import time\n",
        "import math"
      ],
      "execution_count": null,
      "outputs": []
    },
    {
      "cell_type": "code",
      "metadata": {
        "id": "Va2GJolTVuzv"
      },
      "source": [
        "arrayS = [None] * 5\n",
        "for i in range(4, 6):\n",
        "    N = pow(10, i)\n",
        "    arrayS[i-5] = N * math.sqrt(13.0)"
      ],
      "execution_count": null,
      "outputs": []
    },
    {
      "cell_type": "code",
      "metadata": {
        "id": "V4KPSzXvVuzw",
        "outputId": "4eed2346-a84f-43de-afe1-16348dca80ea"
      },
      "source": [
        "print(\"\\n Compensated Summations:\")\n",
        "def compSum(exponent):\n",
        "    N = pow(10, exponent)\n",
        "    s = 0\n",
        "    e = 0\n",
        "    start_time = time.time()\n",
        "    for i in range(0, N):\n",
        "    \n",
        "        temp = s\n",
        "\n",
        "        y = math.sqrt(13.0) + e\n",
        "\n",
        "        s = temp + y\n",
        "\n",
        "        e = (temp - s) + y\n",
        "\n",
        "    s += e\n",
        "\n",
        "    end_time = time.time()\n",
        "    elapsed_time = end_time - start_time\n",
        "    index = exponent - 5\n",
        "    abs_err = abs(s - arrayS[index])\n",
        "    rel_err = abs((s-arrayS[index])/arrayS[index])\n",
        "    print ('N = 10 ^ {}'. format(index + 5))\n",
        "    print('sum =', s)\n",
        "    print('elapsed time:', elapsed_time)\n",
        "    print('absolute error:', abs_err)\n",
        "    print('relative error:', rel_err, '\\n')\n",
        "    \n",
        "for i in range (4, 6):\n",
        "    compSum(i)"
      ],
      "execution_count": null,
      "outputs": [
        {
          "output_type": "stream",
          "text": [
            "\n",
            " Compensated Summations:\n",
            "N = 10 ^ 4\n",
            "sum = 36055.512754639894\n",
            "elapsed time: 0.014634370803833008\n",
            "absolute error: 0.0\n",
            "relative error: 0.0 \n",
            "\n",
            "N = 10 ^ 5\n",
            "sum = 360555.1275463989\n",
            "elapsed time: 0.10345578193664551\n",
            "absolute error: 0.0\n",
            "relative error: 0.0 \n",
            "\n"
          ],
          "name": "stdout"
        }
      ]
    },
    {
      "cell_type": "code",
      "metadata": {
        "id": "3JaYNSpQVuzy"
      },
      "source": [
        " "
      ],
      "execution_count": null,
      "outputs": []
    },
    {
      "cell_type": "markdown",
      "metadata": {
        "id": "B4mfKKfiVuzz"
      },
      "source": [
        "# Explanation: \n",
        "\n",
        "*This program essentially finds the compensated summations from the range which was 4 to 6 so basically it means that N= 10^4 and N= 10^5. This will also find the elapsed time, the abosulte error, and the relative error. I used two different python imports called math and time. They both help build this program.\n",
        "Compensated sum is a recurrisive summation with correction term to diminish rounding errors. *"
      ]
    },
    {
      "cell_type": "code",
      "metadata": {
        "id": "nGc4gdCWVuzz"
      },
      "source": [
        ""
      ],
      "execution_count": null,
      "outputs": []
    },
    {
      "cell_type": "code",
      "metadata": {
        "id": "P_daX4ETVuzz"
      },
      "source": [
        ""
      ],
      "execution_count": null,
      "outputs": []
    }
  ]
}